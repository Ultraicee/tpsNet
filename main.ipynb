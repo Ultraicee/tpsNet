{
 "cells": [
  {
   "cell_type": "markdown",
   "metadata": {},
   "source": [
    "### Create A matrix for training of standard TPS"
   ]
  },
  {
   "cell_type": "code",
   "execution_count": null,
   "metadata": {},
   "outputs": [],
   "source": [
    "%run create_A.py --interp_height 200 --interp_width 200 --interp_top 0 \\\n",
    "--interp_left 0 --feature_row 4 --feature_col 4 --save_path output/"
   ]
  },
  {
   "cell_type": "markdown",
   "metadata": {},
   "source": [
    "### Standard TPS training ¶"
   ]
  },
  {
   "cell_type": "markdown",
   "metadata": {},
   "source": [
    "  set `--continue_training True` recurrent training by using last trained feature."
   ]
  },
  {
   "cell_type": "code",
   "execution_count": null,
   "metadata": {
    "scrolled": false
   },
   "outputs": [],
   "source": [
    "%run fullZ_tps.py --mode 'FEATURE' --cpts_row 4 --cpts_col 4 --A_directory output/A_val.txt \\\n",
    "--output_directory output/ --continue_training True --epoch_num 10"
   ]
  },
  {
   "cell_type": "markdown",
   "metadata": {},
   "source": [
    "### Our method : Alternative training TPS"
   ]
  },
  {
   "cell_type": "code",
   "execution_count": null,
   "metadata": {},
   "outputs": [],
   "source": [
    "%run fullZ_train_test.py --mode train --cpts_row 4 --cpts_col 4 --A_directory output/A_val.txt \\\n",
    "--output_directory output/ --epoch_num 10"
   ]
  },
  {
   "cell_type": "markdown",
   "metadata": {},
   "source": [
    "set `--mode test` to test images."
   ]
  },
  {
   "cell_type": "code",
   "execution_count": null,
   "metadata": {},
   "outputs": [],
   "source": [
    "%run fullZ_train_test.py --mode test --cpts_row 4 --cpts_col 4 --A_directory output/A_val.txt \\\n",
    "--output_directory output/ --continue_predict True --epoch_num 10"
   ]
  },
  {
   "cell_type": "markdown",
   "metadata": {},
   "source": [
    "You can test 3D reconstruction based on predicted disparities and original image source."
   ]
  },
  {
   "cell_type": "code",
   "execution_count": null,
   "metadata": {},
   "outputs": [],
   "source": []
  }
 ],
 "metadata": {
  "kernelspec": {
   "display_name": "Python [conda env:py36]",
   "language": "python",
   "name": "conda-env-py36-py"
  },
  "language_info": {
   "codemirror_mode": {
    "name": "ipython",
    "version": 3
   },
   "file_extension": ".py",
   "mimetype": "text/x-python",
   "name": "python",
   "nbconvert_exporter": "python",
   "pygments_lexer": "ipython3",
   "version": "3.6.12"
  }
 },
 "nbformat": 4,
 "nbformat_minor": 4
}
